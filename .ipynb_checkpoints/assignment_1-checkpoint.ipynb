{
 "cells": [
  {
   "cell_type": "markdown",
   "metadata": {},
   "source": [
    "# Assignment 1: Building a Better Contact Sheet\n",
    "In the lectures for this week you were shown how to make a contact sheet for digital photographers, and how you can take one image and create nine different variants based on the brightness of that image. In this assignment you are going to change the colors of the image, creating variations based on a single photo. There are many complex ways to change a photograph using variations, such as changing a black and white image to either \"cool\" variants, which have light purple and blues in them, or \"warm\" variants, which have touches of yellow and may look sepia toned. In this assignment, you'll be just changing the image one color channel at a time\n",
    "\n",
    "Your assignment is to learn how to take the stub code provided in the lecture (cleaned up below), and generate the following output image:\n",
    "\n",
    "![](./readonly/assignment1.png \"\")\n",
    "\n",
    "From the image you can see there are two parameters which are being varied for each sub-image. First, the rows are changed by color channel, where the top is the red channel, the middle is the green channel, and the bottom is the blue channel. Wait, why don't the colors look more red, green, and blue, in that order? Because the change you to be making is the ratio, or intensity, or that channel, in relationship to the other channels. We're going to use three different intensities, 0.1 (reduce the channel a lot), 0.5 (reduce the channel in half), and 0.9 (reduce the channel only a little bit).\n",
    "\n",
    "For instance, a pixel represented as (200, 100, 50) is a sort of burnt orange color. So the top row of changes would create three alternative pixels, varying the first channel (red). one at (20, 100, 50), one at (100, 100, 50), and one at (180, 100, 50). The next row would vary the second channel (blue), and would create pixels of color values (200, 10, 50), (200, 50, 50) and (200, 90, 50).\n",
    "\n",
    "Note: A font is included for your usage if you would like! It's located in the file `readonly/fanwood-webfont.ttf`\n",
    "\n",
    "Need some hints? Use them sparingly, see how much you can get done on your own first! The sample code given in the class has been cleaned up below, you might want to start from that."
   ]
  },
  {
   "cell_type": "code",
   "execution_count": 1,
   "metadata": {},
   "outputs": [
    {
     "ename": "ModuleNotFoundError",
     "evalue": "No module named 'PIL'",
     "output_type": "error",
     "traceback": [
      "\u001b[0;31m---------------------------------------------------------------------------\u001b[0m",
      "\u001b[0;31mModuleNotFoundError\u001b[0m                       Traceback (most recent call last)",
      "\u001b[0;32m<ipython-input-1-07b95faa549f>\u001b[0m in \u001b[0;36m<module>\u001b[0;34m\u001b[0m\n\u001b[0;32m----> 1\u001b[0;31m \u001b[0;32mimport\u001b[0m \u001b[0mPIL\u001b[0m\u001b[0;34m\u001b[0m\u001b[0;34m\u001b[0m\u001b[0m\n\u001b[0m\u001b[1;32m      2\u001b[0m \u001b[0;32mfrom\u001b[0m \u001b[0mPIL\u001b[0m \u001b[0;32mimport\u001b[0m \u001b[0mImage\u001b[0m\u001b[0;34m\u001b[0m\u001b[0;34m\u001b[0m\u001b[0m\n\u001b[1;32m      3\u001b[0m \u001b[0;32mfrom\u001b[0m \u001b[0mPIL\u001b[0m \u001b[0;32mimport\u001b[0m \u001b[0mImageEnhance\u001b[0m\u001b[0;34m\u001b[0m\u001b[0;34m\u001b[0m\u001b[0m\n\u001b[1;32m      4\u001b[0m \u001b[0;34m\u001b[0m\u001b[0m\n\u001b[1;32m      5\u001b[0m \u001b[0;31m# read image and convert to RGB\u001b[0m\u001b[0;34m\u001b[0m\u001b[0;34m\u001b[0m\u001b[0;34m\u001b[0m\u001b[0m\n",
      "\u001b[0;31mModuleNotFoundError\u001b[0m: No module named 'PIL'"
     ]
    }
   ],
   "source": [
    "import PIL\n",
    "from PIL import Image\n",
    "from PIL import ImageEnhance\n",
    "\n",
    "# read image and convert to RGB\n",
    "image=Image.open(\"readonly/msi_recruitment.gif\")\n",
    "image=image.convert('RGB')\n",
    "\n",
    "# build a list of 9 images which have different brightnesses\n",
    "enhancer=ImageEnhance.Brightness(image)\n",
    "images=[]\n",
    "for i in range(1, 10):\n",
    "    images.append(enhancer.enhance(i/10))\n",
    "\n",
    "# create a contact sheet from different brightnesses\n",
    "first_image=images[0]\n",
    "contact_sheet=PIL.Image.new(first_image.mode, (first_image.width*3,first_image.height*3))\n",
    "x=0\n",
    "y=0\n",
    "\n",
    "for img in images:\n",
    "    # Lets paste the current image into the contact sheet\n",
    "    contact_sheet.paste(img, (x, y) )\n",
    "    # Now we update our X position. If it is going to be the width of the image, then we set it to 0\n",
    "    # and update Y as well to point to the next \"line\" of the contact sheet.\n",
    "    if x+first_image.width == contact_sheet.width:\n",
    "        x=0\n",
    "        y=y+first_image.height\n",
    "    else:\n",
    "        x=x+first_image.width\n",
    "\n",
    "# resize and display the contact sheet\n",
    "contact_sheet = contact_sheet.resize((int(contact_sheet.width/2),int(contact_sheet.height/2) ))\n",
    "display(contact_sheet)"
   ]
  },
  {
   "cell_type": "markdown",
   "metadata": {},
   "source": [
    "## HINT 1\n",
    "\n",
    "Check out the `PIL.ImageDraw module` for helpful functions"
   ]
  },
  {
   "cell_type": "markdown",
   "metadata": {},
   "source": [
    "## HINT 2\n",
    "\n",
    "Did you find the `text()` function of `PIL.ImageDraw`?"
   ]
  },
  {
   "cell_type": "markdown",
   "metadata": {},
   "source": [
    "## HINT 3\n",
    "\n",
    "Have you seen the `PIL.ImageFont` module? Try loading the font with a size of 75 or so."
   ]
  },
  {
   "cell_type": "markdown",
   "metadata": {},
   "source": [
    "## HINT 4\n",
    "These hints aren't really enough, we should probably generate some more."
   ]
  }
 ],
 "metadata": {
  "kernelspec": {
   "display_name": "Python 3",
   "language": "python",
   "name": "python3"
  },
  "language_info": {
   "codemirror_mode": {
    "name": "ipython",
    "version": 3
   },
   "file_extension": ".py",
   "mimetype": "text/x-python",
   "name": "python",
   "nbconvert_exporter": "python",
   "pygments_lexer": "ipython3",
   "version": "3.7.3"
  }
 },
 "nbformat": 4,
 "nbformat_minor": 2
}
